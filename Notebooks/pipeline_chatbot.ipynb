{
 "cells": [
  {
   "cell_type": "markdown",
   "metadata": {},
   "source": [
    "# Pipeline Chatbot PONAL - Bedrock"
   ]
  },
  {
   "cell_type": "code",
   "execution_count": 19,
   "metadata": {},
   "outputs": [],
   "source": [
    "import os\n",
    "import boto3\n",
    "import json\n",
    "import time\n",
    "import pandas as pd"
   ]
  },
  {
   "cell_type": "code",
   "execution_count": 2,
   "metadata": {},
   "outputs": [
    {
     "name": "stdout",
     "output_type": "stream",
     "text": [
      "1.37.25\n"
     ]
    }
   ],
   "source": [
    "print(boto3.__version__)"
   ]
  },
  {
   "cell_type": "code",
   "execution_count": 3,
   "metadata": {},
   "outputs": [],
   "source": [
    "os.environ[\"AWS_PROFILE\"] = \"PONAL\" \n",
    "os.environ['AWS_DEFAULT_REGION'] = 'us-east-1'"
   ]
  },
  {
   "cell_type": "markdown",
   "metadata": {},
   "source": [
    "## Obtención Query"
   ]
  },
  {
   "cell_type": "markdown",
   "metadata": {},
   "source": [
    "### Obtención Esquema"
   ]
  },
  {
   "cell_type": "code",
   "execution_count": 17,
   "metadata": {},
   "outputs": [
    {
     "name": "stdout",
     "output_type": "stream",
     "text": [
      "\n",
      "Table Name: raw__cnp_usr4dblsiedco2aws_delitos_siedco\n",
      "Database Name: pon_prod_siedco_rawid_consecutivo - decimal(38,0)\n",
      "id_delito - decimal(38,0)\n",
      "delito - string\n",
      "direccion - string\n",
      "id_municipio - decimal(38,0)\n",
      "municipio - string\n",
      "fecha_hecho - timestamp\n",
      "hora - timestamp\n",
      "fecha_actualiza - timestamp\n",
      "departamento - string\n",
      "id_hecho - decimal(38,0)\n",
      "longitud - string\n",
      "id_departamento - decimal(38,0)\n",
      "latitud - string\n"
     ]
    }
   ],
   "source": [
    "# Configurar el cliente de AWS Glue\n",
    "glue_client = boto3.client('glue', region_name='us-east-1')\n",
    "\n",
    "# Parámetros: base de datos y nombre de la tabla en Glue\n",
    "database_name = \"pon_prod_siedco_raw\"\n",
    "table_name = \"raw__cnp_usr4dblsiedco2aws_delitos_siedco\"\n",
    "\n",
    "# Obtener metadatos de la tabla\n",
    "response = glue_client.get_table(DatabaseName=database_name, Name=table_name)\n",
    "schema = response['Table']['StorageDescriptor']['Columns']\n",
    "schema_str = \"\\n\".join([f\"{col['Name']} - {col['Type']}\" for col in schema])\n",
    "schema_str = f\"\\nTable Name: {table_name}\\nDatabase Name: {database_name}\" + schema_str\n",
    "\n",
    "# Mostrar el esquema\n",
    "print(f\"{schema_str}\")"
   ]
  },
  {
   "cell_type": "markdown",
   "metadata": {},
   "source": [
    "### Consulta a Bedrock"
   ]
  },
  {
   "cell_type": "code",
   "execution_count": null,
   "metadata": {},
   "outputs": [
    {
     "name": "stdout",
     "output_type": "stream",
     "text": [
      "Respuesta:\n",
      "SELECT delito, COUNT(*) as total\n",
      "FROM raw__cnp_usr4dblsiedco2aws_delitos_siedco\n",
      "WHERE municipio = 'ENVIGADO'\n",
      "GROUP BY delito\n",
      "ORDER BY total DESC\n",
      "LIMIT 1;\n"
     ]
    }
   ],
   "source": [
    "# Crear el cliente de Amazon Bedrock Runtime\n",
    "bedrock_runtime = boto3.client(\n",
    "    service_name='bedrock-runtime',\n",
    "    region_name='us-east-1'  # Reemplaza con tu región de AWS\n",
    ")\n",
    "# Especificar el ID del modelo Claude 3.5 Sonnet\n",
    "model_id = 'anthropic.claude-3-5-sonnet-20240620-v1:0'\n",
    "\n",
    "# Definir prompt\n",
    "prompt_init = '''\n",
    "Eres un chatbot encargado de responder preguntas sobre informacion policial en Colombia. \n",
    "A continuacion recibiras una pregunta que realiza el usuario y un esquema de diferentes tablas donde puede habitar la informacion solicitada.\n",
    "\n",
    "Debes retornar como respuesta una consulta SQL que permita obtener la informacion solicitada por el usuario,\n",
    "compatible con el servicio de AWS Athena. \n",
    "Retorna UNICMAENTE la consulta SQL.\n",
    "'''\n",
    "prompt_user = \"Cual es el delito mas comun que ocurre en el municipio de ENVIGADO?\"\n",
    "\n",
    "prompt_full = f\"Instruciones: {prompt_init}\\nPregunta del usuario: {prompt_user}\\nEsquema de la tabla:\\n{schema_str}\"\n",
    "\n",
    "# Preparar el cuerpo de la solicitud\n",
    "cuerpo_solicitud = json.dumps({\n",
    "    \"anthropic_version\": \"bedrock-2023-05-31\",\n",
    "    \"max_tokens\": 300,\n",
    "    \"temperature\": 0,\n",
    "    \"messages\": [\n",
    "        {\"role\": \"user\", \"content\": prompt_full}\n",
    "    ]\n",
    "})\n",
    "\n",
    "# Invocar el modelo\n",
    "respuesta = bedrock_runtime.invoke_model(\n",
    "    modelId = model_id,\n",
    "    body = cuerpo_solicitud\n",
    ")\n",
    "\n",
    "# Procesar y mostrar la respuesta\n",
    "respuesta_cuerpo = json.loads(respuesta['body'].read())\n",
    "query = respuesta_cuerpo['content'][0]['text']\n",
    "print( f\"Respuesta:\\n{query}\" )"
   ]
  },
  {
   "cell_type": "markdown",
   "metadata": {},
   "source": [
    "## Consulta a Athena"
   ]
  },
  {
   "cell_type": "code",
   "execution_count": 23,
   "metadata": {},
   "outputs": [
    {
     "name": "stdout",
     "output_type": "stream",
     "text": [
      "Consulta en ejecución con ID: abfbba31-bcb8-4498-9032-812c35eceb90\n",
      "La consulta tomó 2.24 segundos\n",
      "\n",
      "Consulta Exitosa.\n"
     ]
    }
   ],
   "source": [
    "import pandas as pd\n",
    "import time\n",
    "# Configurar el cliente de Athena\n",
    "athena_client = boto3.client(\"athena\", region_name=\"us-east-1\")\n",
    " \n",
    "# Parámetros\n",
    "database_name = \"pon_prod_siedco_raw\"\n",
    "output_location = \"s3://aws-athena-query-results-926162397524-us-east-1/\"  # Bucket donde Athena guarda los resultados\n",
    "\n",
    "t1 = time.time()\n",
    "# Ejecutar la consulta en Athena\n",
    "response = athena_client.start_query_execution(\n",
    "    QueryString = query,\n",
    "    QueryExecutionContext = {\"Database\": database_name},\n",
    "    ResultConfiguration = {\"OutputLocation\": output_location},\n",
    ")\n",
    " \n",
    "# Obtener el ID de la ejecución de la consulta\n",
    "query_execution_id = response[\"QueryExecutionId\"]\n",
    "print(f\"Consulta en ejecución con ID: {query_execution_id}\")\n",
    " \n",
    "# Esperar hasta que la consulta termine\n",
    "while True:\n",
    "    status = athena_client.get_query_execution(QueryExecutionId=query_execution_id)\n",
    "    estado = status[\"QueryExecution\"][\"Status\"][\"State\"]\n",
    "    if estado in [\"SUCCEEDED\", \"FAILED\", \"CANCELLED\"]:\n",
    "        break\n",
    "t2 = time.time()\n",
    "print(f\"La consulta tomó {t2 - t1:.2f} segundos\")\n",
    "\n",
    "print()\n",
    "\n",
    "if estado == \"SUCCEEDED\":\n",
    "    print('Consulta Exitosa.')\n",
    "    # Obtener los resultados de la consulta\n",
    "    resultado = athena_client.get_query_results(QueryExecutionId=query_execution_id)\n",
    " \n",
    "    # Procesar los resultados\n",
    "    columnas = [col[\"VarCharValue\"] for col in resultado[\"ResultSet\"][\"Rows\"][0][\"Data\"]]\n",
    "    datos = [[col.get(\"VarCharValue\", \"NULL\") for col in fila[\"Data\"]] for fila in resultado[\"ResultSet\"][\"Rows\"][1:]]\n",
    " \n",
    "    # Convertir a DataFrame de Pandas\n",
    "    df = pd.DataFrame(datos, columns=columnas)\n",
    "else:\n",
    "    print('Consulta Fallida.')"
   ]
  },
  {
   "cell_type": "code",
   "execution_count": 28,
   "metadata": {},
   "outputs": [
    {
     "name": "stdout",
     "output_type": "stream",
     "text": [
      "                      delito count\n",
      "ARTÍCULO 239. HURTO PERSONAS  7384\n"
     ]
    },
    {
     "data": {
      "application/vnd.microsoft.datawrangler.viewer.v0+json": {
       "columns": [
        {
         "name": "index",
         "rawType": "int64",
         "type": "integer"
        },
        {
         "name": "delito",
         "rawType": "object",
         "type": "string"
        },
        {
         "name": "count",
         "rawType": "object",
         "type": "string"
        }
       ],
       "conversionMethod": "pd.DataFrame",
       "ref": "582261ba-0d56-4fb5-b784-244f4d4994d6",
       "rows": [
        [
         "0",
         "ARTÍCULO 239. HURTO PERSONAS",
         "7384"
        ]
       ],
       "shape": {
        "columns": 2,
        "rows": 1
       }
      },
      "text/html": [
       "<div>\n",
       "<style scoped>\n",
       "    .dataframe tbody tr th:only-of-type {\n",
       "        vertical-align: middle;\n",
       "    }\n",
       "\n",
       "    .dataframe tbody tr th {\n",
       "        vertical-align: top;\n",
       "    }\n",
       "\n",
       "    .dataframe thead th {\n",
       "        text-align: right;\n",
       "    }\n",
       "</style>\n",
       "<table border=\"1\" class=\"dataframe\">\n",
       "  <thead>\n",
       "    <tr style=\"text-align: right;\">\n",
       "      <th></th>\n",
       "      <th>delito</th>\n",
       "      <th>count</th>\n",
       "    </tr>\n",
       "  </thead>\n",
       "  <tbody>\n",
       "    <tr>\n",
       "      <th>0</th>\n",
       "      <td>ARTÍCULO 239. HURTO PERSONAS</td>\n",
       "      <td>7384</td>\n",
       "    </tr>\n",
       "  </tbody>\n",
       "</table>\n",
       "</div>"
      ],
      "text/plain": [
       "                         delito count\n",
       "0  ARTÍCULO 239. HURTO PERSONAS  7384"
      ]
     },
     "execution_count": 28,
     "metadata": {},
     "output_type": "execute_result"
    }
   ],
   "source": [
    "df_string = df.to_string(index=False)\n",
    "print(df_string)\n",
    "\n",
    "df"
   ]
  },
  {
   "cell_type": "markdown",
   "metadata": {},
   "source": [
    "## Obtencion Respuesta"
   ]
  },
  {
   "cell_type": "code",
   "execution_count": 29,
   "metadata": {},
   "outputs": [
    {
     "name": "stdout",
     "output_type": "stream",
     "text": [
      "Respuesta:\n",
      "Según la información proporcionada en la tabla, el delito más común que ocurre en el municipio de ENVIGADO es el hurto a personas, específicamente el delito tipificado en el ARTÍCULO 239 del Código Penal colombiano, que se refiere al hurto. Este delito ha sido reportado 7,384 veces, lo que lo convierte en el más frecuente en ese municipio de acuerdo a los datos disponibles.\n"
     ]
    }
   ],
   "source": [
    "prompt_init = '''\n",
    "Eres un chatbot encargado de responder preguntas sobre informacion policial en Colombia. \n",
    "A continuacion recibiras una pregunta que realiza el usuario e informacion relevante en formato de Tabla para responder a la pregunta.\n",
    "\n",
    "Debes retornar una respuesta a la pregunta del usuario basandote en la informacion de la tabla.\n",
    "'''\n",
    "\n",
    "prompt_full = f\"Instruciones: {prompt_init}\\nPregunta del usuario: {prompt_user}\\nTabla relevante:\\n{df_string}\"\n",
    "\n",
    "cuerpo_solicitud = json.dumps({\n",
    "    \"anthropic_version\": \"bedrock-2023-05-31\",\n",
    "    \"max_tokens\": 300,\n",
    "    \"temperature\": 0,\n",
    "    \"messages\": [\n",
    "        {\"role\": \"user\", \"content\": prompt_full}\n",
    "    ]\n",
    "})\n",
    "\n",
    "respuesta = bedrock_runtime.invoke_model(\n",
    "    modelId = model_id,\n",
    "    body = cuerpo_solicitud\n",
    ")\n",
    "\n",
    "respuesta_cuerpo = json.loads(respuesta['body'].read())\n",
    "output = respuesta_cuerpo['content'][0]['text']\n",
    "print( f\"Respuesta:\\n{output}\" )"
   ]
  }
 ],
 "metadata": {
  "kernelspec": {
   "display_name": "vscode",
   "language": "python",
   "name": "python3"
  },
  "language_info": {
   "codemirror_mode": {
    "name": "ipython",
    "version": 3
   },
   "file_extension": ".py",
   "mimetype": "text/x-python",
   "name": "python",
   "nbconvert_exporter": "python",
   "pygments_lexer": "ipython3",
   "version": "3.11.4"
  }
 },
 "nbformat": 4,
 "nbformat_minor": 2
}
